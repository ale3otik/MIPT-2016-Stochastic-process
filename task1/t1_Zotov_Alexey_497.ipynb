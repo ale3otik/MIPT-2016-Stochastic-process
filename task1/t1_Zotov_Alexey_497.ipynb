{
 "cells": [
  {
   "cell_type": "markdown",
   "metadata": {},
   "source": [
    "57 вариант\n",
    "\n",
    "E U N W K T M L R I"
   ]
  },
  {
   "cell_type": "code",
   "execution_count": 1,
   "metadata": {
    "collapsed": true
   },
   "outputs": [],
   "source": [
    "import numpy as np\n",
    "import matplotlib.pyplot as plt\n",
    "import scipy.stats as sps\n",
    "import math\n",
    "from collections import Counter\n",
    "%matplotlib inline"
   ]
  },
  {
   "cell_type": "markdown",
   "metadata": {},
   "source": [
    " - 1"
   ]
  },
  {
   "cell_type": "code",
   "execution_count": 2,
   "metadata": {
    "collapsed": false
   },
   "outputs": [],
   "source": [
    "from BranchingProcess import Person, BranchingProcess, read_from_files\n",
    "file_pref = ['E','U','N','W','K','T','M','L','R','I']\n",
    "file_names = [pref + '.txt' for pref in file_pref]"
   ]
  },
  {
   "cell_type": "code",
   "execution_count": 3,
   "metadata": {
    "collapsed": true
   },
   "outputs": [],
   "source": [
    "processes = read_from_files(file_names)"
   ]
  },
  {
   "cell_type": "code",
   "execution_count": 6,
   "metadata": {
    "collapsed": false
   },
   "outputs": [
    {
     "name": "stdout",
     "output_type": "stream",
     "text": [
      "74142\n"
     ]
    }
   ],
   "source": [
    "print(len(processes))"
   ]
  },
  {
   "cell_type": "code",
   "execution_count": 7,
   "metadata": {
    "collapsed": false
   },
   "outputs": [],
   "source": [
    "# delete dummy nodes (with unknown gender and has no children(leaf in generation-tree))\n",
    "def clear_data(processes) :\n",
    "    processes_new = []\n",
    "    for proc in processes :\n",
    "        new_proc = BranchingProcess()\n",
    "        children = set()\n",
    "        proc.generations.reverse()\n",
    "\n",
    "        for generation in proc.generations:\n",
    "            new_generation = []\n",
    "            for person in generation :\n",
    "                \n",
    "                if person.gender == 'male' or person.gender == 'female':\n",
    "                    children.add(person.name)\n",
    "                    new_generation.append(person)    \n",
    "                else :     \n",
    "                    is_leaf = True\n",
    "                    for ch in person.children:\n",
    "                        if ch in children :\n",
    "                            is_leaf = False\n",
    "                            break\n",
    "                    if not is_leaf :\n",
    "                        new_generation.append(person)    \n",
    "\n",
    "            if len(new_generation) > 0 :\n",
    "                new_generation.reverse()\n",
    "                new_proc.generations.append(new_generation)\n",
    "\n",
    "        if len(new_proc.generations) > 1 :\n",
    "            processes_new.append(new_proc)\n",
    "    return processes_new\n"
   ]
  },
  {
   "cell_type": "code",
   "execution_count": 8,
   "metadata": {
    "collapsed": true
   },
   "outputs": [],
   "source": [
    "processes = clear_data(processes)"
   ]
  },
  {
   "cell_type": "code",
   "execution_count": 9,
   "metadata": {
    "collapsed": false
   },
   "outputs": [
    {
     "name": "stdout",
     "output_type": "stream",
     "text": [
      "21242\n"
     ]
    }
   ],
   "source": [
    "print(len(processes))"
   ]
  },
  {
   "cell_type": "code",
   "execution_count": 10,
   "metadata": {
    "collapsed": false
   },
   "outputs": [],
   "source": [
    "# check that all deleted items were leafs\n",
    "for proc in processes :\n",
    "    for generation in proc.generations:\n",
    "        for person in generation :\n",
    "            if person.gender != 'male' and person.gender != 'female':\n",
    "                print(\"Empty NO-leaf\")"
   ]
  },
  {
   "cell_type": "markdown",
   "metadata": {},
   "source": [
    "- 2"
   ]
  },
  {
   "cell_type": "code",
   "execution_count": 11,
   "metadata": {
    "collapsed": false
   },
   "outputs": [
    {
     "name": "stdout",
     "output_type": "stream",
     "text": [
      "min family length = 2\n",
      "max family length = 81\n",
      "avg family length = 3.25\n"
     ]
    }
   ],
   "source": [
    "lenghts = [len(proc.generations) for proc in processes]\n",
    "min_family_length = np.min(lenghts)\n",
    "max_family_length = np.max(lenghts)\n",
    "avg_family_length = np.mean(lenghts)\n",
    "print('min family length = ' + str(min_family_length))\n",
    "print('max family length = ' + str(max_family_length))\n",
    "print('avg family length = ' + str(round(avg_family_length,2)))"
   ]
  },
  {
   "cell_type": "code",
   "execution_count": 230,
   "metadata": {
    "collapsed": false
   },
   "outputs": [
    {
     "data": {
      "image/png": "[encoded data removed]",
      "text/plain": [
       "<matplotlib.figure.Figure at 0x119013240>"
      ]
     },
     "metadata": {},
     "output_type": "display_data"
    },
    {
     "data": {
      "image/png": "[encoded data removed]",
      "text/plain": [
       "<matplotlib.figure.Figure at 0x118627080>"
      ]
     },
     "metadata": {},
     "output_type": "display_data"
    }
   ],
   "source": [
    "plt.figure(figsize=(12,7))\n",
    "plt.title(\"family length\")\n",
    "\n",
    "plt.hist(lenghts, bins=np.arange(80), facecolor='b', alpha=0.6)\n",
    "plt.grid(True)\n",
    "plt.xlim(2,15)\n",
    "plt.xlabel(\"number of generations in family\")\n",
    "plt.ylabel(\"qunantity\")\n",
    "plt.show()\n",
    "\n",
    "\n",
    "plt.figure(figsize=(12,5))\n",
    "plt.grid(True)\n",
    "plt.ylim(0,150)\n",
    "plt.xlim(2,81)\n",
    "plt.xlabel(\"number of generations in family\")\n",
    "plt.ylabel(\"qunantity\")\n",
    "plt.hist(lenghts,  bins=np.arange(80), facecolor='b', alpha=0.6)\n",
    "plt.show()\n"
   ]
  },
  {
   "cell_type": "code",
   "execution_count": 79,
   "metadata": {
    "collapsed": false
   },
   "outputs": [
    {
     "name": "stdout",
     "output_type": "stream",
     "text": [
      "min value of birthyear = 1\n",
      "max value of birthyear = 2007\n",
      "avg value of life time = 57.7\n"
     ]
    }
   ],
   "source": [
    "# this function returns year(int) from date-info string\n",
    "def get_year(s) : \n",
    "    if len(s) == 0:\n",
    "        return -5000\n",
    "    x = s.split('-')\n",
    "    if(x[0] == '') :\n",
    "        return -5000\n",
    "    return int(x[0])\n",
    "\n",
    "\n",
    "birth_years = []\n",
    "life_time = []\n",
    "for proc in processes :\n",
    "    for generation in proc.generations :\n",
    "        for p in generation : \n",
    "            byear = get_year(p.birthday)\n",
    "            dyear = get_year(p.deathdate)\n",
    "            if byear > -5000:\n",
    "                birth_years.append(byear)\n",
    "                if dyear > -5000 :\n",
    "                    life_time.append(dyear - byear)\n",
    "            \n",
    "min_birthyear , max_birthyear = np.min(birth_years) , np.max(birth_years)\n",
    "avg_life_time = np.mean(life_time)\n",
    "print('min value of birthyear = ' + str(min_birthyear))\n",
    "print('max value of birthyear = ' + str(max_birthyear))\n",
    "print('avg value of life time = ' + str(round(avg_life_time,1)))"
   ]
  },
  {
   "cell_type": "code",
   "execution_count": 14,
   "metadata": {
    "collapsed": false
   },
   "outputs": [
    {
     "data": {
      "image/png": "[encoded data removed]",
      "text/plain": [
       "<matplotlib.figure.Figure at 0x10eee4908>"
      ]
     },
     "metadata": {},
     "output_type": "display_data"
    }
   ],
   "source": [
    "plt.figure(figsize=(12,1))\n",
    "plt.ylim(-0.01,0.01)\n",
    "plt.xlim(-1,2008)\n",
    "plt.xlabel(\"years\")\n",
    "plt.title(\"birth years\")\n",
    "plt.plot([x for x in birth_years],[0 for i in range(len(birth_years))],'o',alpha = 0.002)\n",
    "plt.show()"
   ]
  },
  {
   "cell_type": "markdown",
   "metadata": {},
   "source": [
    "- 3"
   ]
  },
  {
   "cell_type": "code",
   "execution_count": 15,
   "metadata": {
    "collapsed": true
   },
   "outputs": [],
   "source": [
    "def pois_likelyhood_estimation(X) :\n",
    "    return np.mean(X)    "
   ]
  },
  {
   "cell_type": "code",
   "execution_count": 206,
   "metadata": {
    "collapsed": false
   },
   "outputs": [],
   "source": [
    "def normalize_name(s) :\n",
    "    s = s.replace(' ' , '_')\n",
    "\n",
    "X = []\n",
    "for proc in processes :\n",
    "    offspring = dict()\n",
    "    # calc number of sons for each father\n",
    "    for generation in proc.generations:\n",
    "        for person in generation :\n",
    "            normalize_name(person.name)\n",
    "            if person.gender == 'male' and len(person.parents) > 0 and len(person.parents[0]) > 0 :\n",
    "                normalize_name(person.parents[0])\n",
    "                if person.parents[0] not in offspring :\n",
    "                    offspring[person.parents[0]] = 0 \n",
    "                offspring[person.parents[0]] += 1\n",
    "    \n",
    "    #assign by zero for no-sons fathers       \n",
    "    i = 0\n",
    "    for generation in proc.generations:\n",
    "        i += 1\n",
    "        for person in generation :\n",
    "            if person.gender == 'male' and person.name not in offspring :\n",
    "#               add only non-leaf(not last generation in family) and older than 1950 birth year\n",
    "                if get_year(person.birthday) > -5000 and get_year(person.birthday) < 1950:\n",
    "                    # delete if p has no death-year(but he must be already died)\n",
    "                    if get_year(person.deathdate) > -5000 or get_year(person.birthday) > 1920 : \n",
    "                        if i < len(proc.generations):\n",
    "                            offspring[person.name] = 0\n",
    "    vals = list(offspring.values())\n",
    "    if len(vals) > 0 :\n",
    "        X.append(vals)\n",
    "\n",
    "X_all = []\n",
    "for x in X :\n",
    "    X_all += x"
   ]
  },
  {
   "cell_type": "markdown",
   "metadata": {},
   "source": [
    "Оценка максимального правдлоподобия для Пуассоновского распределения : $ \\hat \\lambda = \\overline X$"
   ]
  },
  {
   "cell_type": "code",
   "execution_count": 207,
   "metadata": {
    "collapsed": false
   },
   "outputs": [
    {
     "name": "stdout",
     "output_type": "stream",
     "text": [
      "lambda_all = 1.2562911691\n"
     ]
    }
   ],
   "source": [
    "pois_lmb_all = pois_likelyhood_estimation(X_all)\n",
    "pois_lmb = [pois_likelyhood_estimation(x) for x in X]\n",
    "print('lambda_all = ' + str(pois_lmb_all)) "
   ]
  },
  {
   "cell_type": "code",
   "execution_count": 185,
   "metadata": {
    "collapsed": true
   },
   "outputs": [],
   "source": [
    "freq_all = np.zeros(np.max([np.max(x) for x in X]) + 1,dtype = int)\n",
    "freq = []\n",
    "for x in X:\n",
    "    freq.append(np.zeros(np.max(x) + 1 , dtype=int))\n",
    "    for v in x:\n",
    "        freq[-1][v] += 1\n",
    "        freq_all[v] += 1"
   ]
  },
  {
   "cell_type": "code",
   "execution_count": 231,
   "metadata": {
    "collapsed": false
   },
   "outputs": [
    {
     "name": "stdout",
     "output_type": "stream",
     "text": [
      "[52543 37574 11986  7248  5189  3380  2194  1240   553   348   160    81\n",
      "    28    28    10     3     4     2     3     2]\n"
     ]
    },
    {
     "data": {
      "image/png": "[encoded data removed]",
      "text/plain": [
       "<matplotlib.figure.Figure at 0x119393390>"
      ]
     },
     "metadata": {},
     "output_type": "display_data"
    }
   ],
   "source": [
    "print(freq_all)\n",
    "plt.figure(figsize=(12,7))\n",
    "plt.title(\"frequency offspring size\")\n",
    "\n",
    "plt.hist(X_all, bins=np.arange(20) , facecolor='b', alpha=0.6)\n",
    "plt.grid(True)\n",
    "plt.xlim(0,12)\n",
    "plt.xlabel(\"size\")\n",
    "plt.ylabel(\"frequency\")\n",
    "plt.show()"
   ]
  },
  {
   "cell_type": "markdown",
   "metadata": {},
   "source": [
    "Критерий $\\chi^2$ :\n",
    "\n",
    "$\\mu_k = \\sum_{i \\in[1,n] } I\\{x_i = a_k\\} \\quad k \\in [1,m]$\n",
    "\n",
    "$\\sum_{k\\in[1,m]}\\frac{(\\mu_k - np_k)^2}{np_k} \\to \\chi^2_{m-1}$"
   ]
  },
  {
   "cell_type": "code",
   "execution_count": 219,
   "metadata": {
    "collapsed": true
   },
   "outputs": [],
   "source": [
    "def get_chiquare_check(prob, f_obs, mu) :\n",
    "    n = np.sum(f_obs)\n",
    "    fexp = [n*prob(i,mu) for i in range(len(f_obs))]\n",
    "    return sps.stats.chisquare(f_obs, f_exp=fexp)"
   ]
  },
  {
   "cell_type": "code",
   "execution_count": 220,
   "metadata": {
    "collapsed": false
   },
   "outputs": [
    {
     "name": "stdout",
     "output_type": "stream",
     "text": [
      "Power_divergenceResult(statistic=210952262480.55927, pvalue=0.0)\n",
      "Power_divergenceResult(statistic=4165.0406526531151, pvalue=0.0)\n",
      "Power_divergenceResult(statistic=34845.594236966688, pvalue=0.0)\n"
     ]
    }
   ],
   "source": [
    "poiss_f = lambda x,mu : sps.poisson.pmf(x,mu)\n",
    "geom_f = lambda x,p : sps.geom.pmf(x+1,p)\n",
    "ff = lambda x ,p : 6/(np.pi**2 * (1 + x)**2)\n",
    "print(get_chiquare_check(poiss_f,freq_all,pois_lmb_all))\n",
    "print(get_chiquare_check(geom_f,freq_all,1/(pois_lmb_all + 1)))\n",
    "print(get_chiquare_check(ff,freq_all,0))\n"
   ]
  }
 ],
 "metadata": {
  "kernelspec": {
   "display_name": "Python 3",
   "language": "python",
   "name": "python3"
  },
  "language_info": {
   "codemirror_mode": {
    "name": "ipython",
    "version": 3
   },
   "file_extension": ".py",
   "mimetype": "text/x-python",
   "name": "python",
   "nbconvert_exporter": "python",
   "pygments_lexer": "ipython3",
   "version": "3.5.1"
  }
 },
 "nbformat": 4,
 "nbformat_minor": 0
}
