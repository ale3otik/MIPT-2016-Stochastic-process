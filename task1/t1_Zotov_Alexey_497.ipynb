{
 "cells": [
  {
   "cell_type": "markdown",
   "metadata": {},
   "source": [
    "57 вариант\n",
    "\n",
    "E U N W K T M L R I"
   ]
  },
  {
   "cell_type": "code",
   "execution_count": 1,
   "metadata": {
    "collapsed": true
   },
   "outputs": [],
   "source": [
    "import numpy as np\n",
    "import matplotlib.pyplot as plt\n",
    "import scipy.stats as sps\n",
    "import math\n",
    "import scipy\n",
    "from collections import Counter\n",
    "import copy\n",
    "%matplotlib inline"
   ]
  },
  {
   "cell_type": "markdown",
   "metadata": {},
   "source": [
    " ## №1"
   ]
  },
  {
   "cell_type": "code",
   "execution_count": 8,
   "metadata": {
    "collapsed": false
   },
   "outputs": [],
   "source": [
    "from BranchingProcess import Person, BranchingProcess, read_from_files\n",
    "file_pref = ['E','U','N','W','K','T','M','L','R','I']\n",
    "# file_all = 'C,D,E,F,G,I,J,K,L,M,N,O,P,Q,R,S,T,U,W'\n",
    "# pref_all = file_all.split(',')\n",
    "file_names = ['data/' + pref + '.txt' for pref in file_pref]"
   ]
  },
  {
   "cell_type": "code",
   "execution_count": 9,
   "metadata": {
    "collapsed": true
   },
   "outputs": [],
   "source": [
    "processes = read_from_files(file_names)"
   ]
  },
  {
   "cell_type": "code",
   "execution_count": 10,
   "metadata": {
    "collapsed": false
   },
   "outputs": [
    {
     "name": "stdout",
     "output_type": "stream",
     "text": [
      "74142\n"
     ]
    }
   ],
   "source": [
    "print(len(processes))"
   ]
  },
  {
   "cell_type": "code",
   "execution_count": 11,
   "metadata": {
    "collapsed": false
   },
   "outputs": [],
   "source": [
    "# delete dummy nodes (with unknown gender and has no children(leaf in generation-tree))\n",
    "def clear_data(processes) :\n",
    "    processes_new = []\n",
    "    for proc in processes :\n",
    "        new_proc = BranchingProcess()\n",
    "        children = set()\n",
    "        proc.generations.reverse()\n",
    "\n",
    "        for generation in proc.generations:\n",
    "            new_generation = []\n",
    "            for person in generation :\n",
    "                \n",
    "                if person.gender == 'male' or person.gender == 'female':\n",
    "                    children.add(person.name)\n",
    "                    new_generation.append(person)    \n",
    "#                 else :     \n",
    "#                     is_leaf = True\n",
    "#                     for ch in person.children:\n",
    "#                         if ch in children :\n",
    "#                             is_leaf = False\n",
    "#                             break\n",
    "#                     if not is_leaf :\n",
    "#                         new_generation.append(person)    \n",
    "\n",
    "            if len(new_generation) > 0 :\n",
    "                new_generation.reverse()\n",
    "                new_proc.generations.append(new_generation)\n",
    "\n",
    "        if len(new_proc.generations) > 1 :\n",
    "            processes_new.append(new_proc)\n",
    "    return processes_new\n"
   ]
  },
  {
   "cell_type": "code",
   "execution_count": 12,
   "metadata": {
    "collapsed": true
   },
   "outputs": [],
   "source": [
    "processes = clear_data(processes)"
   ]
  },
  {
   "cell_type": "code",
   "execution_count": 13,
   "metadata": {
    "collapsed": false
   },
   "outputs": [
    {
     "name": "stdout",
     "output_type": "stream",
     "text": [
      "21242\n"
     ]
    }
   ],
   "source": [
    "print(len(processes))"
   ]
  },
  {
   "cell_type": "code",
   "execution_count": 14,
   "metadata": {
    "collapsed": false
   },
   "outputs": [],
   "source": [
    "# check that all deleted items were leafs\n",
    "for proc in processes :\n",
    "    for generation in proc.generations:\n",
    "        for person in generation :\n",
    "            if person.gender != 'male' and person.gender != 'female':\n",
    "                print(\"Empty NO-leaf\")"
   ]
  },
  {
   "cell_type": "markdown",
   "metadata": {},
   "source": [
    "## №2"
   ]
  },
  {
   "cell_type": "code",
   "execution_count": 15,
   "metadata": {
    "collapsed": false
   },
   "outputs": [
    {
     "name": "stdout",
     "output_type": "stream",
     "text": [
      "min family length = 2\n",
      "max family length = 81\n",
      "avg family length = 3.25\n"
     ]
    }
   ],
   "source": [
    "lenghts = [len(proc.generations) for proc in processes]\n",
    "min_family_length = np.min(lenghts)\n",
    "max_family_length = np.max(lenghts)\n",
    "avg_family_length = np.mean(lenghts)\n",
    "print('min family length = ' + str(min_family_length))\n",
    "print('max family length = ' + str(max_family_length))\n",
    "print('avg family length = ' + str(round(avg_family_length,2)))"
   ]
  },
  {
   "cell_type": "code",
   "execution_count": 16,
   "metadata": {
    "collapsed": false
   },
   "outputs": [
    {
     "data": {
      "image/png": "[encoded data removed]",
      "text/plain": [
       "<matplotlib.figure.Figure at 0x10ea0bf98>"
      ]
     },
     "metadata": {},
     "output_type": "display_data"
    },
    {
     "data": {
      "image/png": "[encoded data removed]",
      "text/plain": [
       "<matplotlib.figure.Figure at 0x14bf66f98>"
      ]
     },
     "metadata": {},
     "output_type": "display_data"
    }
   ],
   "source": [
    "plt.figure(figsize=(12,7))\n",
    "plt.title(\"family length\")\n",
    "\n",
    "plt.hist(lenghts, bins=np.arange(80), facecolor='b', alpha=0.6)\n",
    "plt.grid(True)\n",
    "plt.xlim(2,15)\n",
    "plt.xlabel(\"number of generations in family\")\n",
    "plt.ylabel(\"qunantity\")\n",
    "plt.show()\n",
    "\n",
    "\n",
    "plt.figure(figsize=(12,5))\n",
    "plt.grid(True)\n",
    "plt.ylim(0,150)\n",
    "plt.xlim(2,81)\n",
    "plt.xlabel(\"number of generations in family\")\n",
    "plt.ylabel(\"qunantity\")\n",
    "plt.hist(lenghts,  bins=np.arange(80), facecolor='b', alpha=0.6)\n",
    "plt.show()\n"
   ]
  },
  {
   "cell_type": "code",
   "execution_count": 17,
   "metadata": {
    "collapsed": false
   },
   "outputs": [
    {
     "name": "stdout",
     "output_type": "stream",
     "text": [
      "min value of birthyear = 1\n",
      "max value of birthyear = 2007\n",
      "avg value of life time = 57.7\n"
     ]
    }
   ],
   "source": [
    "# this function returns year(int) from date-info string\n",
    "def get_year(s) : \n",
    "    if len(s) == 0:\n",
    "        return -5000\n",
    "    x = s.split('-')\n",
    "    if(x[0] == '') :\n",
    "        return -5000\n",
    "    return int(x[0])\n",
    "\n",
    "\n",
    "birth_years = []\n",
    "life_time = []\n",
    "# max_first_gen = 0\n",
    "for proc in processes :\n",
    "#     max_first_gen = max(max_first_gen,len(proc.generations[0]))\n",
    "    for generation in proc.generations :\n",
    "        for p in generation : \n",
    "            byear = get_year(p.birthday)\n",
    "            dyear = get_year(p.deathdate)\n",
    "            if byear > -5000:\n",
    "                birth_years.append(byear)\n",
    "                if dyear > -5000 :\n",
    "                    life_time.append(dyear - byear)\n",
    "            \n",
    "min_birthyear , max_birthyear = np.min(birth_years) , np.max(birth_years)\n",
    "avg_life_time = np.mean(life_time)\n",
    "# print(max_first_gen)\n",
    "print('min value of birthyear = ' + str(min_birthyear))\n",
    "print('max value of birthyear = ' + str(max_birthyear))\n",
    "print('avg value of life time = ' + str(round(avg_life_time,1)))"
   ]
  },
  {
   "cell_type": "code",
   "execution_count": 18,
   "metadata": {
    "collapsed": false
   },
   "outputs": [
    {
     "data": {
      "image/png": "[encoded data removed]",
      "text/plain": [
       "<matplotlib.figure.Figure at 0x14c571780>"
      ]
     },
     "metadata": {},
     "output_type": "display_data"
    }
   ],
   "source": [
    "plt.figure(figsize=(12,1))\n",
    "plt.ylim(-0.01,0.01)\n",
    "plt.xlim(-1,2008)\n",
    "plt.xlabel(\"years\")\n",
    "plt.title(\"birth years\")\n",
    "plt.plot([x for x in birth_years],[0 for i in range(len(birth_years))],'o',alpha = 0.002)\n",
    "plt.show()"
   ]
  },
  {
   "cell_type": "markdown",
   "metadata": {},
   "source": [
    "## №3"
   ]
  },
  {
   "cell_type": "code",
   "execution_count": 19,
   "metadata": {
    "collapsed": true
   },
   "outputs": [],
   "source": [
    "def pois_likelyhood_estimation(X) :\n",
    "    return np.mean(X)    "
   ]
  },
  {
   "cell_type": "markdown",
   "metadata": {},
   "source": [
    "В данных сложные фамилии могут быть представлены двумя способами, с пробелом или нижним подчеркиванием.\n",
    "\n",
    "Поэтому нормализуем все имена в процессе обработки.\n",
    "\n",
    "Также не будем рассматривать как бездетных мужчин, у которых не указана дата смерти, но которых уже \"почти наверное\" нет в живых ( > 96 лет), так как о них, вероятнее всего, просто утеряна информация. ((*) - критерий)"
   ]
  },
  {
   "cell_type": "code",
   "execution_count": 46,
   "metadata": {
    "collapsed": false
   },
   "outputs": [],
   "source": [
    "\n",
    "def normalize_name(s) :\n",
    "    return s.replace(' ' , '_')\n",
    "\n",
    "\n",
    "#  add only non-leaf(not last generation in family) and older than 1950 birth year\n",
    "#  delete if p has no death-year(but he must be already died)\n",
    "def death_crit(person):\n",
    "    return False #get_year(person.deathdate) <= -5000 and get_year(person.birthday) <= 1920\n",
    "def is_bad_example(person) :\n",
    "    return get_year(person.birthday) <= -5000 or get_year(person.birthday) >= 1950 \\\n",
    "        or death_crit(person)\n",
    "            \n",
    "\n",
    "X = []\n",
    "# print(processes[1].generations[0][0])\n",
    "t = 0\n",
    "for proc in processes :\n",
    "    offspring = dict()\n",
    "    # calc number of sons for each father\n",
    "    for generation in proc.generations:\n",
    "        for person in generation :\n",
    "            person.name = normalize_name(person.name)\n",
    "            if person.gender == 'male' and len(person.parents) > 0 and len(person.parents[0]) > 0 :\n",
    "                person.parents[0] = normalize_name(person.parents[0])\n",
    "                if person.parents[0] not in offspring :\n",
    "                    offspring[person.parents[0]] = 0 \n",
    "                offspring[person.parents[0]] += 1\n",
    "    \n",
    "    #assign by zero for no-sons fathers       \n",
    "    i = 0\n",
    "    for generation in proc.generations:\n",
    "        i += 1\n",
    "        for person in generation :\n",
    "            person.name = normalize_name(person.name)\n",
    "            if person.gender == 'male' and person.name not in offspring :\n",
    "                if i < len(proc.generations) and not is_bad_example(person):\n",
    "                    offspring[person.name] = 0\n",
    "    vals = list(offspring.values())\n",
    "    if len(vals) > 0 :\n",
    "        X.append(vals)\n",
    "        \n",
    "X_all = []\n",
    "for x in X :\n",
    "    X_all += x"
   ]
  },
  {
   "cell_type": "markdown",
   "metadata": {},
   "source": [
    "Рассмотрим 2 дискретных распределения: геометрическое и распределение Пуассона.\n",
    "\n",
    "Оценка максимального правдоподобия:\n",
    " - для Пуассоновского распределения : $ \\hat \\lambda = \\overline X$\n",
    " - для геометрического : $ \\hat p = \\frac{1}{\\overline X + 1}$\n"
   ]
  },
  {
   "cell_type": "code",
   "execution_count": 47,
   "metadata": {
    "collapsed": false
   },
   "outputs": [
    {
     "name": "stdout",
     "output_type": "stream",
     "text": [
      "lambda_all = 1.00264484776\n",
      "p_geom_all = 0.499339661308\n"
     ]
    }
   ],
   "source": [
    "pois_lmb_all = pois_likelyhood_estimation(X_all)\n",
    "pois_lmb = np.array([pois_likelyhood_estimation(x) for x in X])\n",
    "p_geom = 1/(pois_lmb + 1)\n",
    "p_geom_all = 1/(pois_lmb_all + 1)\n",
    "print('lambda_all = ' + str(pois_lmb_all)) \n",
    "print('p_geom_all = ' + str(p_geom_all))"
   ]
  },
  {
   "cell_type": "code",
   "execution_count": 26,
   "metadata": {
    "collapsed": false
   },
   "outputs": [],
   "source": [
    "freq_all = list(Counter(X_all).values())\n",
    "freq = []\n",
    "for x in X:\n",
    "    freq.append(list(Counter(x).values()))\n",
    "\n",
    "#build general discrete distribution\n",
    "def discrete_ppf(x , i) :\n",
    "    if x >= len(frec[i]) :\n",
    "        return 0\n",
    "    return frec[i][x]/np.sum(frec[i])\n",
    "def discrete_ppf_all(x) :\n",
    "    if x >= len(frec_all) :\n",
    "        return 0\n",
    "    return frec_all[x]/np.sum(frec_all)"
   ]
  },
  {
   "cell_type": "code",
   "execution_count": 27,
   "metadata": {
    "collapsed": false
   },
   "outputs": [
    {
     "name": "stdout",
     "output_type": "stream",
     "text": [
      "[50106, 37574, 11986, 7248, 5189, 3380, 2194, 1240, 553, 348, 160, 81, 28, 28, 10, 3, 4, 2, 3, 2]\n",
      "120139\n"
     ]
    },
    {
     "data": {
      "image/png": "[encoded data removed]",
      "text/plain": [
       "<matplotlib.figure.Figure at 0x14cc97c88>"
      ]
     },
     "metadata": {},
     "output_type": "display_data"
    }
   ],
   "source": [
    "print(freq_all)\n",
    "print(np.sum(freq_all))\n",
    "n = np.sum(freq_all)\n",
    "plt.figure(figsize=(12,7))\n",
    "plt.title(\"frequency offspring size\")\n",
    "plt.hist(X_all, bins=np.arange(20) , facecolor='b', alpha=0.3)\n",
    "plt.plot(np.arange(1,21) , [n*sps.poisson.pmf(x,mu=pois_lmb_all) for x in range(20)] ,\n",
    "         '-o' ,color='r', label = r'$Poiss(\\mu)$')\n",
    "plt.plot(np.arange(1,21) , [n*sps.geom.pmf(x+1,1/(pois_lmb_all+1)) for x in range(20)] ,\n",
    "         '-o' ,color='g',  label = r'$Geom(1/(\\mu+1))$')\n",
    "plt.legend()\n",
    "plt.grid(True)\n",
    "plt.xlim(0,12)\n",
    "plt.xlabel(\"size\")\n",
    "plt.ylabel(\"frequency\")\n",
    "plt.show()"
   ]
  },
  {
   "cell_type": "markdown",
   "metadata": {},
   "source": [
    "Критерий $\\chi^2$ :"
   ]
  },
  {
   "cell_type": "code",
   "execution_count": 28,
   "metadata": {
    "collapsed": false
   },
   "outputs": [],
   "source": [
    "def get_chisquare_check(prob, f_obs, mu) :\n",
    "    n = np.sum(f_obs)\n",
    "    fexp = [n*prob(i,mu) for i in range(len(f_obs))]\n",
    "    val , p = sps.chisquare(f_obs, f_exp=fexp)\n",
    "    return val,p"
   ]
  },
  {
   "cell_type": "code",
   "execution_count": 30,
   "metadata": {
    "collapsed": false
   },
   "outputs": [
    {
     "name": "stdout",
     "output_type": "stream",
     "text": [
      "pois : (1779726.5200562908, 0.0)\n",
      "geom : (4420.4038046725873, 0.0)\n"
     ]
    }
   ],
   "source": [
    "poiss_f = lambda x,mu : sps.poisson.pmf(x,mu)\n",
    "geom_f = lambda x,p : sps.geom.pmf(x+1,p)\n",
    "print('pois : ' + str(get_chisquare_check(poiss_f,freq_all,pois_lmb_all+3.1)))\n",
    "print('geom : ' + str(get_chisquare_check(geom_f,freq_all,p_geom_all)))"
   ]
  },
  {
   "cell_type": "markdown",
   "metadata": {},
   "source": [
    "Критерий ХИ квадрат показал, что нет почти никаких оснований не отвергать гипотезы о том что закон распределения\n",
    "принимает какое-то из этих распределений.\n",
    "\n",
    "Но все же геометрическое распределение дает более точное приближение, в дальнейшем будем использовать его."
   ]
  },
  {
   "cell_type": "code",
   "execution_count": 33,
   "metadata": {
    "collapsed": false
   },
   "outputs": [
    {
     "data": {
      "image/png": "[encoded data removed]",
      "text/plain": [
       "<matplotlib.figure.Figure at 0x14d943828>"
      ]
     },
     "metadata": {},
     "output_type": "display_data"
    }
   ],
   "source": [
    "plt.figure(figsize=(12,7))\n",
    "plt.grid(True)\n",
    "plt.title(r'$\\xi \\sim Geom($' + str(p_geom_all) + r'$)$',size=15)\n",
    "plt.xlim(0,14)\n",
    "plt.xlabel(r'$x$',size=15)\n",
    "plt.ylabel(r'$P(\\xi = x)$',size=15)\n",
    "width = 1\n",
    "OX = np.arange(15)\n",
    "plt.bar(OX,[geom_f(x,p_geom_all) for x in OX], width)\n",
    "plt.xticks(OX)\n",
    "plt.show()"
   ]
  },
  {
   "cell_type": "markdown",
   "metadata": {},
   "source": [
    "## №4"
   ]
  },
  {
   "cell_type": "markdown",
   "metadata": {},
   "source": [
    " ## №5"
   ]
  },
  {
   "cell_type": "markdown",
   "metadata": {},
   "source": [
    "Найдем среднее время до появления следующего поколения"
   ]
  },
  {
   "cell_type": "code",
   "execution_count": 34,
   "metadata": {
    "collapsed": false
   },
   "outputs": [
    {
     "name": "stdout",
     "output_type": "stream",
     "text": [
      "average year distance between generations = 33\n"
     ]
    }
   ],
   "source": [
    "gen_dists = []\n",
    "for proc in processes:\n",
    "    avg_byears = []\n",
    "    for gen in proc.generations:\n",
    "        bdays =[]\n",
    "        for p in gen:\n",
    "            if(p.gender != 'male'):\n",
    "                continue\n",
    "            bdy = get_year(p.birthday)\n",
    "            if(bdy > -5000) :\n",
    "                bdays.append(bdy)\n",
    "        if(len(bdays) > 0):\n",
    "            avg_byears.append(np.mean(bdays))\n",
    "    for i in range(1,len(avg_byears)):\n",
    "        if(avg_byears[i-1] - avg_byears[i] > 0) :\n",
    "            gen_dists.append(avg_byears[i-1] - avg_byears[i])\n",
    "# print(gen_dists)\n",
    "avg_gen_distance = int(np.mean(gen_dists))\n",
    "print('average year distance between generations = ' + str(avg_gen_distance))"
   ]
  },
  {
   "cell_type": "markdown",
   "metadata": {},
   "source": [
    "Для моделирования процесса \"вперед\" будем считать, что процессы не склеиваются, т.е. каждый процесс можно продолжить независимо от других. Разделим всех мужчин на активных и не активных, активные - находящиеся в последнем поколении процесса, а также, удовлетворяющие (*) - критерию(см. пункт 3). Тогда каждый активный мужчина с датой рождения $b\\_year_i$ будет порождать $\\xi_i \\sim distr$ активных мужчин c датами рождения $b\\_year_j = b\\_year_i + avg\\_dist$ , где $avg\\_dist$ - среднее расстояние между двумя поколения. Будем считать за одно $n$-ое поколение  мужчин с датой рождения $b\\_year \\in [avg\\_dist \\cdot n,avg\\_dist \\cdot (n+1) - 1]$"
   ]
  },
  {
   "cell_type": "code",
   "execution_count": 52,
   "metadata": {
    "collapsed": false
   },
   "outputs": [],
   "source": [
    "first = 0\n",
    "last = 80000\n",
    "step = avg_gen_distance\n",
    "def calc_forward_all(distr, param):\n",
    "    active = np.zeros((last+1)//step + 1)\n",
    "    population = np.zeros((last+1)//step + 1)\n",
    "    \n",
    "    for proc in processes:\n",
    "        for i in range(len(proc.generations)) :\n",
    "            gen = proc.generations[i]\n",
    "            for p in gen:\n",
    "                if p.gender != 'male':\n",
    "                    continue\n",
    "                bday = get_year(p.birthday)\n",
    "                if bday > -5000 :\n",
    "                    population[bday//step] += 1\n",
    "                    if i == len(proc.generations) - 1 :\n",
    "#                     or (len(p.children) == 0 and death_crit(p)):\n",
    "                        active[bday//step] += 1\n",
    "    base_population = copy.copy(population)\n",
    "    for i in range(len(active) - 1):\n",
    "        offspring = np.sum(distr(param,active[i]))\n",
    "        active[i+1] += offspring\n",
    "        population[i+1] += offspring\n",
    "\n",
    "    plt.figure(figsize=(15,7))\n",
    "    plt.grid(True)\n",
    "    plt.xlabel('years')\n",
    "    plt.ylabel('population')\n",
    "    plt.plot(step*np.arange((last+1)//step + 1), base_population,color='b',label='base population')\n",
    "    plt.plot(step*np.arange((last+1)//step + 1), population, color='r',label='reconstructed population')\n",
    "    plt.plot(step*np.arange((last+1)//step + 1), active,'--' ,color='g', label='active population')\n",
    "    plt.legend(loc = 'best',fontsize=12)\n",
    "    plt.show()"
   ]
  },
  {
   "cell_type": "code",
   "execution_count": null,
   "metadata": {
    "collapsed": false
   },
   "outputs": [],
   "source": [
    "distr = [lambda lmb,sz : sps.poisson.rvs(lmb, size=sz),\n",
    "         lambda p,sz : sps.geom.rvs(p,size=sz) , discrete_ppf_all]\n",
    "names = ['poiss', 'geom' , 'discrete']\n",
    "print('poiss(' + str(pois_lmb_all) + ')')\n",
    "calc_forward_all(distr[0], pois_lmb_all)\n",
    "# calc_forward_all(distr[1], p_geom)"
   ]
  }
 ],
 "metadata": {
  "kernelspec": {
   "display_name": "Python 3",
   "language": "python",
   "name": "python3"
  },
  "language_info": {
   "codemirror_mode": {
    "name": "ipython",
    "version": 3
   },
   "file_extension": ".py",
   "mimetype": "text/x-python",
   "name": "python",
   "nbconvert_exporter": "python",
   "pygments_lexer": "ipython3",
   "version": "3.5.1"
  }
 },
 "nbformat": 4,
 "nbformat_minor": 0
}
