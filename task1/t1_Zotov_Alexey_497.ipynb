{
 "cells": [
  {
   "cell_type": "markdown",
   "metadata": {},
   "source": [
    "57 вариант\n",
    "\n",
    "E U N W K T M L R I"
   ]
  },
  {
   "cell_type": "code",
   "execution_count": 111,
   "metadata": {
    "collapsed": true
   },
   "outputs": [],
   "source": [
    "import numpy as np\n",
    "import matplotlib.pyplot as plt\n",
    "import scipy.stats as sps\n",
    "import math\n",
    "from collections import Counter\n",
    "%matplotlib inline"
   ]
  },
  {
   "cell_type": "markdown",
   "metadata": {},
   "source": [
    " - 1"
   ]
  },
  {
   "cell_type": "code",
   "execution_count": 59,
   "metadata": {
    "collapsed": false
   },
   "outputs": [],
   "source": [
    "from BranchingProcess import Person, BranchingProcess, read_from_files\n",
    "file_pref = ['E','U','N','W','K','T','M','L','R','I']\n",
    "file_names = [pref + '.txt' for pref in file_pref]"
   ]
  },
  {
   "cell_type": "code",
   "execution_count": 60,
   "metadata": {
    "collapsed": true
   },
   "outputs": [],
   "source": [
    "processes = read_from_files(file_names)"
   ]
  },
  {
   "cell_type": "code",
   "execution_count": 96,
   "metadata": {
    "collapsed": false
   },
   "outputs": [
    {
     "name": "stdout",
     "output_type": "stream",
     "text": [
      "74142\n"
     ]
    }
   ],
   "source": [
    "print(len(processes))"
   ]
  },
  {
   "cell_type": "code",
   "execution_count": 86,
   "metadata": {
    "collapsed": false
   },
   "outputs": [],
   "source": [
    "# delete dummy nodes (with unknown gender and has no children(leaf in generation-tree))\n",
    "def clear_data(processes) :\n",
    "    processes_new = []\n",
    "    for proc in processes :\n",
    "        new_proc = BranchingProcess()\n",
    "        children = set()\n",
    "        proc.generations.reverse()\n",
    "\n",
    "        for generation in proc.generations:\n",
    "            new_generation = []\n",
    "            for person in generation :\n",
    "                \n",
    "                if person.gender == 'male' or person.gender == 'female':\n",
    "                    children.add(person.name)\n",
    "                    new_generation.append(person)    \n",
    "                else :     \n",
    "                    is_leaf = True\n",
    "                    for ch in person.children:\n",
    "                        if ch in children :\n",
    "                            is_leaf = False\n",
    "                            break\n",
    "                    if not is_leaf :\n",
    "                        new_generation.append(person)    \n",
    "\n",
    "            if len(new_generation) > 0 :\n",
    "                new_generation.reverse()\n",
    "                new_proc.generations.append(new_generation)\n",
    "\n",
    "        if len(new_proc.generations) > 1 :\n",
    "            processes_new.append(new_proc)\n",
    "    return processes_new\n"
   ]
  },
  {
   "cell_type": "code",
   "execution_count": 97,
   "metadata": {
    "collapsed": true
   },
   "outputs": [],
   "source": [
    "processes = clear_data(processes)"
   ]
  },
  {
   "cell_type": "code",
   "execution_count": 98,
   "metadata": {
    "collapsed": false
   },
   "outputs": [
    {
     "name": "stdout",
     "output_type": "stream",
     "text": [
      "21242\n"
     ]
    }
   ],
   "source": [
    "print(len(processes))"
   ]
  },
  {
   "cell_type": "code",
   "execution_count": 99,
   "metadata": {
    "collapsed": false
   },
   "outputs": [],
   "source": [
    "# check that all deleted items were leafs\n",
    "for proc in processes :\n",
    "    for generation in proc.generations:\n",
    "        for person in generation :\n",
    "            if person.gender != 'male' and person.gender != 'female':\n",
    "                print(\"Empty NO-leaf\")"
   ]
  },
  {
   "cell_type": "markdown",
   "metadata": {},
   "source": [
    "- 2"
   ]
  },
  {
   "cell_type": "code",
   "execution_count": 180,
   "metadata": {
    "collapsed": false
   },
   "outputs": [
    {
     "name": "stdout",
     "output_type": "stream",
     "text": [
      "min family length = 2\n",
      "max family length = 81\n",
      "avg family length = 3.25\n"
     ]
    }
   ],
   "source": [
    "lenghts = [len(proc.generations) for proc in processes]\n",
    "min_family_length = np.min(lenghts)\n",
    "max_family_length = np.max(lenghts)\n",
    "avg_family_length = np.mean(lenghts)\n",
    "print('min family length = ' + str(min_family_length))\n",
    "print('max family length = ' + str(max_family_length))\n",
    "print('avg family length = ' + str(round(avg_family_length,2)))"
   ]
  },
  {
   "cell_type": "code",
   "execution_count": 186,
   "metadata": {
    "collapsed": false
   },
   "outputs": [
    {
     "data": {
      "image/png": "[encoded data removed]",
      "text/plain": [
       "<matplotlib.figure.Figure at 0x115492da0>"
      ]
     },
     "metadata": {},
     "output_type": "display_data"
    },
    {
     "data": {
      "image/png": "[encoded data removed]",
      "text/plain": [
       "<matplotlib.figure.Figure at 0x115e90eb8>"
      ]
     },
     "metadata": {},
     "output_type": "display_data"
    }
   ],
   "source": [
    "counted = Counter(lenghts)\n",
    "family_qnt = [counted[x] for x in range(min_family_length,max_family_length+1)]\n",
    "\n",
    "\n",
    "# n, bins, patches = plt.hist(family_qnt, 50, normed=1, facecolor='green', alpha=0.75)\n",
    "\n",
    "# # add a 'best fit' line\n",
    "# y = mlab.normpdf( bins, mu, sigma)\n",
    "# l = plt.plot(bins, y, 'r--', linewidth=1)\n",
    "\n",
    "# plt.xlabel('Smarts')\n",
    "# plt.ylabel('Probability')\n",
    "# plt.title(r'$\\mathrm{Histogram\\ of\\ IQ:}\\ \\mu=100,\\ \\sigma=15$')\n",
    "# plt.axis([40, 160, 0, 0.03])\n",
    "# plt.grid(True)\n",
    "\n",
    "# plt.show()\n",
    "\n",
    "\n",
    "\n",
    "plt.figure(figsize=(12,7))\n",
    "plt.grid(True)\n",
    "plt.xlim(1.8,15)\n",
    "plt.ylim(0,12200)\n",
    "# plt.xlabel('n',size=16)\n",
    "# plt.ylabel(r'$f[i] - f[0]$',size=16)\n",
    "plt.plot([x for x in range(min_family_length,max_family_length+1)],family_qnt,'-*')\n",
    "\n",
    "plt.figure(figsize=(12,5))\n",
    "plt.grid(True)\n",
    "plt.ylim(0,150)\n",
    "plt.xlim(1.8,81.5)\n",
    "plt.plot([x for x in range(min_family_length,max_family_length+1)],family_qnt,'-*')\n",
    "plt.show()"
   ]
  },
  {
   "cell_type": "code",
   "execution_count": 181,
   "metadata": {
    "collapsed": false
   },
   "outputs": [
    {
     "name": "stdout",
     "output_type": "stream",
     "text": [
      "min value of birthyear = 1\n",
      "max value of birthyear = 2007\n"
     ]
    }
   ],
   "source": [
    "# this function returns year(int) from date-info string\n",
    "def get_year(s) : \n",
    "    if len(s) == 0:\n",
    "        return -5000\n",
    "    x = s.split('-')\n",
    "    if(x[0] == '') :\n",
    "        return -5000\n",
    "    return int(x[0])\n",
    "\n",
    "min_birthyear = 5000\n",
    "max_birthyear = 0\n",
    "for proc in processes :\n",
    "    for generation in proc.generations :\n",
    "        for p in generation : \n",
    "            year = get_year(p.birthday)\n",
    "            if year <= -5000:\n",
    "                continue\n",
    "            min_birthyear = min(year,min_birthyear)\n",
    "            max_birthyear = max(year,max_birthyear)\n",
    "print('min value of birthyear = ' + str(min_birthyear))\n",
    "print('max value of birthyear = ' + str(max_birthyear))"
   ]
  },
  {
   "cell_type": "code",
   "execution_count": null,
   "metadata": {
    "collapsed": true
   },
   "outputs": [],
   "source": []
  }
 ],
 "metadata": {
  "kernelspec": {
   "display_name": "Python 3",
   "language": "python",
   "name": "python3"
  },
  "language_info": {
   "codemirror_mode": {
    "name": "ipython",
    "version": 3
   },
   "file_extension": ".py",
   "mimetype": "text/x-python",
   "name": "python",
   "nbconvert_exporter": "python",
   "pygments_lexer": "ipython3",
   "version": "3.5.1"
  }
 },
 "nbformat": 4,
 "nbformat_minor": 0
}
