{
 "cells": [
  {
   "cell_type": "markdown",
   "metadata": {},
   "source": [
    "57 вариант\n",
    "\n",
    "E U N W K T M L R I"
   ]
  },
  {
   "cell_type": "code",
   "execution_count": 58,
   "metadata": {
    "collapsed": true
   },
   "outputs": [],
   "source": [
    "import numpy as np\n",
    "import matplotlib.pyplot as plt\n",
    "import scipy.stats as sps\n",
    "import math\n",
    "%matplotlib inline"
   ]
  },
  {
   "cell_type": "code",
   "execution_count": 59,
   "metadata": {
    "collapsed": false
   },
   "outputs": [],
   "source": [
    "from BranchingProcess import Person, BranchingProcess, read_from_files\n",
    "file_pref = ['E','U','N','W','K','T','M','L','R','I']\n",
    "file_names = [pref + '.txt' for pref in file_pref]"
   ]
  },
  {
   "cell_type": "code",
   "execution_count": 60,
   "metadata": {
    "collapsed": true
   },
   "outputs": [],
   "source": [
    "processes = read_from_files(file_names)"
   ]
  },
  {
   "cell_type": "code",
   "execution_count": 96,
   "metadata": {
    "collapsed": false
   },
   "outputs": [
    {
     "name": "stdout",
     "output_type": "stream",
     "text": [
      "74142\n"
     ]
    }
   ],
   "source": [
    "print(len(processes))"
   ]
  },
  {
   "cell_type": "code",
   "execution_count": 86,
   "metadata": {
    "collapsed": false
   },
   "outputs": [],
   "source": [
    "# delete dummy nodes (with unknown gender and has no children(leaf in generation-tree))\n",
    "def clear_data(processes) :\n",
    "    processes_new = []\n",
    "    for proc in processes :\n",
    "        new_proc = BranchingProcess()\n",
    "        children = set()\n",
    "        proc.generations.reverse()\n",
    "\n",
    "        for generation in proc.generations:\n",
    "            new_generation = []\n",
    "            for person in generation :\n",
    "                \n",
    "                if person.gender == 'male' or person.gender == 'female':\n",
    "                    children.add(person.name)\n",
    "                    new_generation.append(person)    \n",
    "                else :     \n",
    "                    is_leaf = True\n",
    "                    for ch in person.children:\n",
    "                        if ch in children :\n",
    "                            is_leaf = False\n",
    "                            break\n",
    "                    if not is_leaf :\n",
    "                        new_generation.append(person)    \n",
    "\n",
    "            if len(new_generation) > 0 :\n",
    "                new_generation.reverse()\n",
    "                new_proc.generations.append(new_generation)\n",
    "\n",
    "        if len(new_proc.generations) > 1 :\n",
    "            processes_new.append(new_proc)\n",
    "    return processes_new\n"
   ]
  },
  {
   "cell_type": "code",
   "execution_count": 97,
   "metadata": {
    "collapsed": true
   },
   "outputs": [],
   "source": [
    "processes = clear_data(processes)"
   ]
  },
  {
   "cell_type": "code",
   "execution_count": 98,
   "metadata": {
    "collapsed": false
   },
   "outputs": [
    {
     "name": "stdout",
     "output_type": "stream",
     "text": [
      "21242\n"
     ]
    }
   ],
   "source": [
    "print(len(processes))"
   ]
  },
  {
   "cell_type": "code",
   "execution_count": 99,
   "metadata": {
    "collapsed": false
   },
   "outputs": [],
   "source": [
    "# check that all deleted items were leafs\n",
    "for proc in processes :\n",
    "    for generation in proc.generations:\n",
    "        for person in generation :\n",
    "            if person.gender != 'male' and person.gender != 'female':\n",
    "                print(\"Empty NO-leaf\")"
   ]
  },
  {
   "cell_type": "code",
   "execution_count": null,
   "metadata": {
    "collapsed": true
   },
   "outputs": [],
   "source": []
  }
 ],
 "metadata": {
  "kernelspec": {
   "display_name": "Python 3",
   "language": "python",
   "name": "python3"
  },
  "language_info": {
   "codemirror_mode": {
    "name": "ipython",
    "version": 3
   },
   "file_extension": ".py",
   "mimetype": "text/x-python",
   "name": "python",
   "nbconvert_exporter": "python",
   "pygments_lexer": "ipython3",
   "version": "3.5.1"
  }
 },
 "nbformat": 4,
 "nbformat_minor": 0
}
