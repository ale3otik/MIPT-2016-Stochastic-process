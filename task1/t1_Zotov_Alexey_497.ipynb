{
 "cells": [
  {
   "cell_type": "markdown",
   "metadata": {},
   "source": [
    "57 вариант\n",
    "\n",
    "E U N W K T M L R I"
   ]
  },
  {
   "cell_type": "code",
   "execution_count": 506,
   "metadata": {
    "collapsed": true
   },
   "outputs": [],
   "source": [
    "import numpy as np\n",
    "import matplotlib.pyplot as plt\n",
    "import scipy.stats as sps\n",
    "import math\n",
    "import scipy\n",
    "from collections import Counter\n",
    "%matplotlib inline"
   ]
  },
  {
   "cell_type": "markdown",
   "metadata": {},
   "source": [
    " - 1"
   ]
  },
  {
   "cell_type": "code",
   "execution_count": 373,
   "metadata": {
    "collapsed": false
   },
   "outputs": [],
   "source": [
    "from BranchingProcess import Person, BranchingProcess, read_from_files\n",
    "file_pref = ['E','U','N','W','K','T','M','L','R','I']\n",
    "file_all = 'C,D,E,F,G,I,J,K,L,M,N,O,P,Q,R,S,T,U,W'\n",
    "pref_all = file_all.split(',')\n",
    "file_names = ['data/' + pref + '.txt' for pref in pref_all]"
   ]
  },
  {
   "cell_type": "code",
   "execution_count": 374,
   "metadata": {
    "collapsed": true
   },
   "outputs": [],
   "source": [
    "processes = read_from_files(file_names)"
   ]
  },
  {
   "cell_type": "code",
   "execution_count": 375,
   "metadata": {
    "collapsed": false
   },
   "outputs": [
    {
     "name": "stdout",
     "output_type": "stream",
     "text": [
      "128097\n"
     ]
    }
   ],
   "source": [
    "print(len(processes))"
   ]
  },
  {
   "cell_type": "code",
   "execution_count": 376,
   "metadata": {
    "collapsed": false
   },
   "outputs": [],
   "source": [
    "# delete dummy nodes (with unknown gender and has no children(leaf in generation-tree))\n",
    "def clear_data(processes) :\n",
    "    processes_new = []\n",
    "    for proc in processes :\n",
    "        new_proc = BranchingProcess()\n",
    "        children = set()\n",
    "        proc.generations.reverse()\n",
    "\n",
    "        for generation in proc.generations:\n",
    "            new_generation = []\n",
    "            for person in generation :\n",
    "                \n",
    "                if person.gender == 'male' or person.gender == 'female':\n",
    "                    children.add(person.name)\n",
    "                    new_generation.append(person)    \n",
    "                else :     \n",
    "                    is_leaf = True\n",
    "                    for ch in person.children:\n",
    "                        if ch in children :\n",
    "                            is_leaf = False\n",
    "                            break\n",
    "                    if not is_leaf :\n",
    "                        new_generation.append(person)    \n",
    "\n",
    "            if len(new_generation) > 0 :\n",
    "                new_generation.reverse()\n",
    "                new_proc.generations.append(new_generation)\n",
    "\n",
    "        if len(new_proc.generations) > 1 :\n",
    "            processes_new.append(new_proc)\n",
    "    return processes_new\n"
   ]
  },
  {
   "cell_type": "code",
   "execution_count": 377,
   "metadata": {
    "collapsed": true
   },
   "outputs": [],
   "source": [
    "processes = clear_data(processes)"
   ]
  },
  {
   "cell_type": "code",
   "execution_count": 378,
   "metadata": {
    "collapsed": false
   },
   "outputs": [
    {
     "name": "stdout",
     "output_type": "stream",
     "text": [
      "36579\n"
     ]
    }
   ],
   "source": [
    "print(len(processes))"
   ]
  },
  {
   "cell_type": "code",
   "execution_count": 379,
   "metadata": {
    "collapsed": false
   },
   "outputs": [],
   "source": [
    "# check that all deleted items were leafs\n",
    "for proc in processes :\n",
    "    for generation in proc.generations:\n",
    "        for person in generation :\n",
    "            if person.gender != 'male' and person.gender != 'female':\n",
    "                print(\"Empty NO-leaf\")"
   ]
  },
  {
   "cell_type": "markdown",
   "metadata": {},
   "source": [
    "- 2"
   ]
  },
  {
   "cell_type": "code",
   "execution_count": 380,
   "metadata": {
    "collapsed": false
   },
   "outputs": [
    {
     "name": "stdout",
     "output_type": "stream",
     "text": [
      "min family length = 2\n",
      "max family length = 81\n",
      "avg family length = 3.31\n"
     ]
    }
   ],
   "source": [
    "lenghts = [len(proc.generations) for proc in processes]\n",
    "min_family_length = np.min(lenghts)\n",
    "max_family_length = np.max(lenghts)\n",
    "avg_family_length = np.mean(lenghts)\n",
    "print('min family length = ' + str(min_family_length))\n",
    "print('max family length = ' + str(max_family_length))\n",
    "print('avg family length = ' + str(round(avg_family_length,2)))"
   ]
  },
  {
   "cell_type": "code",
   "execution_count": 381,
   "metadata": {
    "collapsed": false
   },
   "outputs": [
    {
     "data": {
      "image/png": "[encoded data removed]",
      "text/plain": [
       "<matplotlib.figure.Figure at 0x1866364a8>"
      ]
     },
     "metadata": {},
     "output_type": "display_data"
    },
    {
     "data": {
      "image/png": "[encoded data removed]",
      "text/plain": [
       "<matplotlib.figure.Figure at 0x1380e2d68>"
      ]
     },
     "metadata": {},
     "output_type": "display_data"
    }
   ],
   "source": [
    "plt.figure(figsize=(12,7))\n",
    "plt.title(\"family length\")\n",
    "\n",
    "plt.hist(lenghts, bins=np.arange(80), facecolor='b', alpha=0.6)\n",
    "plt.grid(True)\n",
    "plt.xlim(2,15)\n",
    "plt.xlabel(\"number of generations in family\")\n",
    "plt.ylabel(\"qunantity\")\n",
    "plt.show()\n",
    "\n",
    "\n",
    "plt.figure(figsize=(12,5))\n",
    "plt.grid(True)\n",
    "plt.ylim(0,150)\n",
    "plt.xlim(2,81)\n",
    "plt.xlabel(\"number of generations in family\")\n",
    "plt.ylabel(\"qunantity\")\n",
    "plt.hist(lenghts,  bins=np.arange(80), facecolor='b', alpha=0.6)\n",
    "plt.show()\n"
   ]
  },
  {
   "cell_type": "code",
   "execution_count": 382,
   "metadata": {
    "collapsed": false
   },
   "outputs": [
    {
     "name": "stdout",
     "output_type": "stream",
     "text": [
      "min value of birthyear = 1\n",
      "max value of birthyear = 2007\n",
      "avg value of life time = 57.4\n"
     ]
    }
   ],
   "source": [
    "# this function returns year(int) from date-info string\n",
    "def get_year(s) : \n",
    "    if len(s) == 0:\n",
    "        return -5000\n",
    "    x = s.split('-')\n",
    "    if(x[0] == '') :\n",
    "        return -5000\n",
    "    return int(x[0])\n",
    "\n",
    "\n",
    "birth_years = []\n",
    "life_time = []\n",
    "for proc in processes :\n",
    "    for generation in proc.generations :\n",
    "        for p in generation : \n",
    "            byear = get_year(p.birthday)\n",
    "            dyear = get_year(p.deathdate)\n",
    "            if byear > -5000:\n",
    "                birth_years.append(byear)\n",
    "                if dyear > -5000 :\n",
    "                    life_time.append(dyear - byear)\n",
    "            \n",
    "min_birthyear , max_birthyear = np.min(birth_years) , np.max(birth_years)\n",
    "avg_life_time = np.mean(life_time)\n",
    "print('min value of birthyear = ' + str(min_birthyear))\n",
    "print('max value of birthyear = ' + str(max_birthyear))\n",
    "print('avg value of life time = ' + str(round(avg_life_time,1)))"
   ]
  },
  {
   "cell_type": "code",
   "execution_count": 383,
   "metadata": {
    "collapsed": false
   },
   "outputs": [
    {
     "data": {
      "image/png": "[encoded data removed]",
      "text/plain": [
       "<matplotlib.figure.Figure at 0x138924208>"
      ]
     },
     "metadata": {},
     "output_type": "display_data"
    }
   ],
   "source": [
    "plt.figure(figsize=(12,1))\n",
    "plt.ylim(-0.01,0.01)\n",
    "plt.xlim(-1,2008)\n",
    "plt.xlabel(\"years\")\n",
    "plt.title(\"birth years\")\n",
    "plt.plot([x for x in birth_years],[0 for i in range(len(birth_years))],'o',alpha = 0.002)\n",
    "plt.show()"
   ]
  },
  {
   "cell_type": "markdown",
   "metadata": {},
   "source": [
    "- 3"
   ]
  },
  {
   "cell_type": "code",
   "execution_count": 384,
   "metadata": {
    "collapsed": true
   },
   "outputs": [],
   "source": [
    "def pois_likelyhood_estimation(X) :\n",
    "    return np.mean(X)    "
   ]
  },
  {
   "cell_type": "code",
   "execution_count": 385,
   "metadata": {
    "collapsed": false
   },
   "outputs": [],
   "source": [
    "def normalize_name(s) :\n",
    "    return s.replace(' ' , '_')\n",
    "\n",
    "\n",
    "#  add only non-leaf(not last generation in family) and older than 1950 birth year\n",
    "#  delete if p has no death-year(but he must be already died)\n",
    "def is_bad_example(person) :\n",
    "    return get_year(person.birthday) <= -5000 or get_year(person.birthday) >= 1950 \n",
    "#         or (get_year(person.deathdate) <= -5000 and get_year(person.birthday) <= 1920) \n",
    "            \n",
    "\n",
    "X = []\n",
    "# print(processes[1].generations[0][0])\n",
    "t = 0\n",
    "for proc in processes :\n",
    "    offspring = dict()\n",
    "    # calc number of sons for each father\n",
    "    for generation in proc.generations:\n",
    "        for person in generation :\n",
    "            person.name = normalize_name(person.name)\n",
    "            if person.gender == 'male' and len(person.parents) > 0 and len(person.parents[0]) > 0 :\n",
    "                person.parents[0] = normalize_name(person.parents[0])\n",
    "                if person.parents[0] not in offspring :\n",
    "                    offspring[person.parents[0]] = 0 \n",
    "                offspring[person.parents[0]] += 1\n",
    "    \n",
    "    #assign by zero for no-sons fathers       \n",
    "    i = 0\n",
    "    for generation in proc.generations:\n",
    "        i += 1\n",
    "        for person in generation :\n",
    "            person.name = normalize_name(person.name)\n",
    "            if person.gender == 'male' and person.name not in offspring :\n",
    "                if i < len(proc.generations) and not is_bad_example(person):\n",
    "                    offspring[person.name] = 0\n",
    "    vals = list(offspring.values())\n",
    "    if len(vals) > 0 :\n",
    "        X.append(vals)\n",
    "        \n",
    "X_all = []\n",
    "for x in X :\n",
    "    X_all += x"
   ]
  },
  {
   "cell_type": "markdown",
   "metadata": {},
   "source": [
    "Оценка максимального правдоподобия для Пуассоновского распределения : $ \\hat \\lambda = \\overline X$"
   ]
  },
  {
   "cell_type": "code",
   "execution_count": 386,
   "metadata": {
    "collapsed": false
   },
   "outputs": [
    {
     "name": "stdout",
     "output_type": "stream",
     "text": [
      "lambda_all = 1.00106098451\n"
     ]
    }
   ],
   "source": [
    "pois_lmb_all = pois_likelyhood_estimation(X_all)\n",
    "pois_lmb = [pois_likelyhood_estimation(x) for x in X]\n",
    "print('lambda_all = ' + str(pois_lmb_all)) "
   ]
  },
  {
   "cell_type": "code",
   "execution_count": 387,
   "metadata": {
    "collapsed": true
   },
   "outputs": [],
   "source": [
    "freq_all = list(Counter(X_all).values())\n",
    "freq = []\n",
    "for x in X:\n",
    "    freq.append(list(Counter(x).values()))"
   ]
  },
  {
   "cell_type": "code",
   "execution_count": 520,
   "metadata": {
    "collapsed": false
   },
   "outputs": [
    {
     "name": "stdout",
     "output_type": "stream",
     "text": [
      "[147638, 66241, 21738, 12741, 8832, 6028, 3868, 2166, 994, 657, 257, 145, 50, 42, 17, 4, 9, 8, 7, 4]\n",
      "271446\n"
     ]
    },
    {
     "data": {
      "image/png": "[encoded data removed]",
      "text/plain": [
       "<matplotlib.figure.Figure at 0x158522f60>"
      ]
     },
     "metadata": {},
     "output_type": "display_data"
    }
   ],
   "source": [
    "print(freq_all)\n",
    "print(np.sum(freq_all))\n",
    "n = np.sum(freq_all)\n",
    "plt.figure(figsize=(12,7))\n",
    "plt.title(\"frequency offspring size\")\n",
    "plt.hist(X_all, bins=np.arange(20) , facecolor='b', alpha=0.3)\n",
    "plt.plot(np.arange(1,21) , [n*sps.poisson.pmf(x,mu=pois_lmb_all) for x in range(20)] ,\n",
    "         '-o' ,color='r', label = r'$Poiss(\\mu)$')\n",
    "plt.plot(np.arange(1,21) , [n*sps.geom.pmf(x+1,1/(pois_lmb_all+1)) for x in range(20)] ,\n",
    "         '-o' ,color='g',  label = r'$Geom(1/(\\mu+1))$')\n",
    "plt.legend()\n",
    "plt.grid(True)\n",
    "plt.xlim(0,12)\n",
    "plt.xlabel(\"size\")\n",
    "plt.ylabel(\"frequency\")\n",
    "plt.show()"
   ]
  },
  {
   "cell_type": "markdown",
   "metadata": {},
   "source": [
    "Критерий $\\chi^2$ :"
   ]
  },
  {
   "cell_type": "code",
   "execution_count": 449,
   "metadata": {
    "collapsed": false
   },
   "outputs": [],
   "source": [
    "def get_chisquare_check(prob, f_obs, mu) :\n",
    "    n = np.sum(f_obs)\n",
    "    fexp = [n*prob(i,mu) for i in range(len(f_obs))]\n",
    "    val , p = sps.chisquare(f_obs, f_exp=fexp)\n",
    "    return val,p"
   ]
  },
  {
   "cell_type": "code",
   "execution_count": 473,
   "metadata": {
    "collapsed": false
   },
   "outputs": [
    {
     "name": "stdout",
     "output_type": "stream",
     "text": [
      "(4838039.9170249132, 0.0)\n",
      "(11316.003885842561, 0.0)\n"
     ]
    }
   ],
   "source": [
    "poiss_f = lambda x,mu : sps.poisson.pmf(x,mu)\n",
    "geom_f = lambda x,p : sps.geom.pmf(x+1,p)\n",
    "print(get_chisquare_check(poiss_f,freq_all,pois_lmb_all+3.1))\n",
    "print(get_chisquare_check(geom_f,freq_all,1/(pois_lmb_all + 1)))"
   ]
  }
 ],
 "metadata": {
  "kernelspec": {
   "display_name": "Python 3",
   "language": "python",
   "name": "python3"
  },
  "language_info": {
   "codemirror_mode": {
    "name": "ipython",
    "version": 3
   },
   "file_extension": ".py",
   "mimetype": "text/x-python",
   "name": "python",
   "nbconvert_exporter": "python",
   "pygments_lexer": "ipython3",
   "version": "3.5.1"
  }
 },
 "nbformat": 4,
 "nbformat_minor": 0
}
